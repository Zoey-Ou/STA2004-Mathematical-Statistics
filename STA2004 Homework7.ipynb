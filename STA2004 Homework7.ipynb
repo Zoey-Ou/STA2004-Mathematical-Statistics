{
 "cells": [
  {
   "cell_type": "code",
   "execution_count": 199,
   "id": "eabb4166",
   "metadata": {
    "scrolled": true
   },
   "outputs": [
    {
     "name": "stdout",
     "output_type": "stream",
     "text": [
      "The 95% CI for beta0 is: [0.7574753987500396, 1.9938095466715837]\n",
      "The 95% CI for beta1 is: [0.3058897956811466, 1.6426385825168657]\n",
      "The 95% CI for beta2 is: [1.1930040500307033, 2.4929221187229733]\n",
      "The 95% CI for beta3 is: [-0.9360889825112271, 0.3673015667340431]\n"
     ]
    }
   ],
   "source": [
    "# STA2004 Programming assignment7\n",
    "# Name: Ou Ziyi  Student ID:121090429\n",
    "import numpy as np\n",
    "import matplotlib.pyplot as plt\n",
    "from scipy.stats import uniform\n",
    "from scipy.stats import norm\n",
    "import scipy.stats as st\n",
    "import pandas as pd\n",
    "import statsmodels.api as sm\n",
    "from statsmodels.formula.api import ols\n",
    "\n",
    "# Problem 1 i\n",
    "\n",
    "n = 100\n",
    "\n",
    "xi1 = uniform.rvs(size = n)\n",
    "xi2 = uniform.rvs(size = n)\n",
    "xi3 = uniform.rvs(size = n)\n",
    "epsilon = norm.rvs(loc = 0, scale = 1, size = n)\n",
    "\n",
    "xij = np.c_[xi1,xi2,xi3]\n",
    "\n",
    "beta = [1,1,2,0]\n",
    "\n",
    "\n",
    "\n",
    "x = sm.add_constant(xij)\n",
    "y = np.dot(x,beta) + epsilon\n",
    "\n",
    "model = sm.OLS(y,x)\n",
    "results = model.fit()\n",
    "y_hat = results.fittedvalues\n",
    "beta_hat = list(results.params)\n",
    "\n",
    "SSE = np.sum((y - y_hat) ** 2)\n",
    "SSR = np.sum((y_hat - np.mean(y)) ** 2)\n",
    "S_square = SSE/(n-3-1)   # S^2: unbiased estimator for sigma^2\n",
    "\n",
    "\n",
    "XTX = np.dot(x.T,x)\n",
    "XTX_inverse = np.linalg.inv(XTX)\n",
    "\n",
    "\n",
    "SEk = []    # SEk = ((XTX)^(-1)[k+1,k+1])*S^2\n",
    "SEk.append((XTX_inverse[0,0]*S_square)**0.5)\n",
    "SEk.append((XTX_inverse[1,1]*S_square)**0.5)\n",
    "SEk.append((XTX_inverse[2,2]*S_square)**0.5)\n",
    "SEk.append((XTX_inverse[3,3]*S_square)**0.5)\n",
    "\n",
    "beta_zero = st.t.interval(confidence=0.95,df=n-3-1,loc=beta_hat[0],scale=SEk[0])\n",
    "print('The 95% CI for beta0 is:',list(beta_zero))\n",
    "\n",
    "beta_one = st.t.interval(confidence=0.95,df=n-3-1,loc=beta_hat[1],scale=SEk[1])\n",
    "print('The 95% CI for beta1 is:',list(beta_one))\n",
    "\n",
    "beta_two = st.t.interval(confidence=0.95,df=n-3-1,loc=beta_hat[2],scale=SEk[2])\n",
    "print('The 95% CI for beta2 is:',list(beta_two))\n",
    "\n",
    "beta_three = st.t.interval(confidence=0.95,df=n-3-1,loc=beta_hat[3],scale=SEk[3])\n",
    "print('The 95% CI for beta3 is:',list(beta_three))"
   ]
  },
  {
   "cell_type": "code",
   "execution_count": 200,
   "id": "d4d261d9",
   "metadata": {},
   "outputs": [
    {
     "name": "stdout",
     "output_type": "stream",
     "text": [
      "The SSE is 88.50337026108951\n",
      "The SSR is 40.9953049289346\n",
      "The value for F statistics is 22.4654980164916\n",
      "The corresponding p-value is 4.204281367492513e-11\n"
     ]
    }
   ],
   "source": [
    "# Problem 1 ii\n",
    "F_statistics = (SSR/(3-1))/(SSE/(n-3))\n",
    "p_value = 1- abs(st.f.cdf(F_statistics,3,n-3-1))  # p_value = 1 - CDF(F_statistics)\n",
    "\n",
    "print('The SSE is {}'.format(SSE))\n",
    "print('The SSR is {}'.format(SSR))\n",
    "print('The value for F statistics is {}'.format(F_statistics))\n",
    "print('The corresponding p-value is {}'.format(p_value))"
   ]
  },
  {
   "cell_type": "code",
   "execution_count": 201,
   "id": "eff66f1a",
   "metadata": {},
   "outputs": [
    {
     "name": "stdout",
     "output_type": "stream",
     "text": [
      "The number of simulations with p-values < 0.05 is 52.\n",
      "The number of simulations with p-values < 0.05 is around 55, which is close to 0.05*1000. The empirical type I error rate is 55/1000 = 0.055, which is close to the significance level of 0.05.\n"
     ]
    }
   ],
   "source": [
    "# Problem 1 iii\n",
    "type_one_error = 0\n",
    "for i in range(1000):\n",
    "    n = 100\n",
    "\n",
    "    xi1_iii = uniform.rvs(size = n)\n",
    "    xi2_iii = uniform.rvs(size = n)\n",
    "    xi3_iii = uniform.rvs(size = n)\n",
    "    epsilon_iii = norm.rvs(loc = 0, scale = 1, size = n)\n",
    "\n",
    "    xij_iii = np.c_[xi1_iii,xi2_iii,xi3_iii]\n",
    "\n",
    "    beta_iii = [1,1,2,0]\n",
    "\n",
    "\n",
    "\n",
    "    x_iii = sm.add_constant(xij_iii)\n",
    "    y_iii = np.dot(x_iii,beta_iii) + epsilon_iii\n",
    "\n",
    "    model_iii = sm.OLS(y_iii,x_iii)\n",
    "    results_iii = model_iii.fit()\n",
    "    y_hat_iii = results_iii.fittedvalues\n",
    "    beta_hat_iii = list(results_iii.params)\n",
    "\n",
    "    SSE_iii = np.sum((y_iii - y_hat_iii) ** 2)\n",
    "    SSR_iii = np.sum((y_hat_iii - np.mean(y_iii)) ** 2)\n",
    "    S_square_iii = SSE_iii/(n-3-1)   # S^2: unbiased estimator for sigma^2\n",
    "    \n",
    "    XTX_iii = np.dot(x_iii.T,x_iii)\n",
    "    XTX_iii_inverse = np.linalg.inv(XTX_iii)\n",
    "\n",
    "\n",
    "    SEk_iii = []    # SEk = ((XTX)^(-1)[k+1,k+1])*S^2\n",
    "    SEk_iii.append((XTX_iii_inverse[0,0]*S_square_iii)**0.5)\n",
    "    SEk_iii.append((XTX_iii_inverse[1,1]*S_square_iii)**0.5)\n",
    "    SEk_iii.append((XTX_iii_inverse[2,2]*S_square_iii)**0.5)\n",
    "    SEk_iii.append((XTX_iii_inverse[3,3]*S_square_iii)**0.5)\n",
    "    \n",
    "    beta3_hat = beta_hat_iii[3]\n",
    "    t_statistics = beta3_hat / SEk_iii[3]\n",
    "    p_value = 1 - abs(st.t.cdf(t_statistics,n-3-1))\n",
    "    if p_value < 0.05:\n",
    "        type_one_error += 1\n",
    "    else:\n",
    "        continue\n",
    "\n",
    "print('The number of simulations with p-values < 0.05 is {}.'.format(type_one_error))\n",
    "print('The number of simulations with p-values < 0.05 is around 55, which is close to 0.05*1000. The empirical type I error rate is 55/1000 = 0.055, which is close to the significance level of 0.05.')"
   ]
  },
  {
   "cell_type": "code",
   "execution_count": 202,
   "id": "3f1fd243",
   "metadata": {
    "scrolled": true
   },
   "outputs": [
    {
     "name": "stdout",
     "output_type": "stream",
     "text": [
      "The predicted value for y0 is is 1.8374387507938668\n",
      "The predicted interval for y0 is [-0.094447659231087, 3.7693251608188207]\n"
     ]
    }
   ],
   "source": [
    "# Problem 1 iv\n",
    "x0 = [1, 0.3, 0.2, 0.7]\n",
    "y0_hat = np.dot(x0,beta_hat)\n",
    "print('The predicted value for y0 is is {}'.format(y0_hat))\n",
    "standard_error = (S_square * (1 + np.dot(np.transpose(x0),np.dot(XTX_inverse, x0))))**0.5\n",
    "y0_predicted = st.t.interval(confidence=0.95,df=n-3-1,loc=y0_hat,scale=standard_error)\n",
    "print('The predicted interval for y0 is {}'.format(list(y0_predicted)))"
   ]
  },
  {
   "cell_type": "code",
   "execution_count": 203,
   "id": "45be5b11",
   "metadata": {
    "scrolled": true
   },
   "outputs": [
    {
     "name": "stdout",
     "output_type": "stream",
     "text": [
      "The width of 95% prediction intervals for y0 are: 4.1022874976548085, 3.8403656457865187 and 3.91420751957076 respectively for n = 200, 500 and 1000. The width does not approach to 0, but gradually be close to its limit of 3.969969.\n"
     ]
    }
   ],
   "source": [
    "# Problem 1 v\n",
    "\n",
    "n_list = [200,500,1000]\n",
    "width = []\n",
    "x0 = [1, 0.3, 0.2, 0.7]\n",
    "\n",
    "for N in n_list:\n",
    "    xi1 = uniform.rvs(size = N)\n",
    "    xi2 = uniform.rvs(size = N)\n",
    "    xi3 = uniform.rvs(size = N)\n",
    "    epsilon = norm.rvs(loc = 0, scale = 1, size = N)\n",
    "\n",
    "    xij = np.c_[xi1,xi2,xi3]\n",
    "\n",
    "    beta = [1,1,2,0]\n",
    "\n",
    "\n",
    "\n",
    "    x = sm.add_constant(xij)\n",
    "    y = np.dot(x,beta) + epsilon\n",
    "\n",
    "    model = sm.OLS(y,x)\n",
    "    results = model.fit()\n",
    "    y_hat = results.fittedvalues\n",
    "    beta_hat = results.params\n",
    "\n",
    "    SSE = np.sum((y - y_hat) ** 2)\n",
    "    S_square = SSE/(N-3-1)   # S^2: unbiased estimator for sigma^2\n",
    "\n",
    "\n",
    "    XTX = np.dot(x.T,x)\n",
    "    XTX_inverse = np.linalg.inv(XTX)\n",
    "\n",
    "    standard_error = np.sqrt(S_square * (1 + np.dot(np.transpose(x0),np.dot(XTX_inverse, x0))))\n",
    "        \n",
    "    y0_hat = np.dot(x0,beta_hat)\n",
    "    y0_interval = st.t.interval(confidence=0.95,df=N-3-1,loc=y0_hat,scale=standard_error)\n",
    "    y0_interval = list(y0_interval)\n",
    "    width.append(y0_interval[1]-y0_interval[0])\n",
    "\n",
    "        \n",
    "print('The width of 95% prediction intervals for y0 are: {}, {} and {} respectively for n = 200, 500 and 1000. The width does not approach to 0, but gradually be close to its limit of 3.969969.'.format(width[0],width[1],width[2]))"
   ]
  },
  {
   "cell_type": "code",
   "execution_count": 204,
   "id": "f0915706",
   "metadata": {},
   "outputs": [
    {
     "name": "stdout",
     "output_type": "stream",
     "text": [
      "31431\n",
      "                 df        sum_sq       mean_sq           F         PR(>F)\n",
      "C(weather)      2.0  2.548512e+09  1.274256e+09  338.384375  3.994626e-146\n",
      "Residual    31428.0  1.183486e+11  3.765705e+06         NaN            NaN\n"
     ]
    }
   ],
   "source": [
    "# Problem 2 (a)\n",
    "import pandas as pd\n",
    "from pandas.core.frame import DataFrame \n",
    "from statsmodels.formula.api import ols\n",
    "data = pd.read_csv(r\"D:\\大二下\\STA2004\\assignment\\homework7\\traffic.csv\")\n",
    "traffic_volume = np.array(data[\"traffic_volume\"])\n",
    "\n",
    "x_clouds = []\n",
    "x_clear = []\n",
    "x_snow = []\n",
    "\n",
    "for i in range(len(data[\"weather_main\"])):\n",
    "    if data[\"weather_main\"][i] == \"Clouds\":\n",
    "        x_clouds.append(data[\"traffic_volume\"][i])\n",
    "    elif data[\"weather_main\"][i] == \"Clear\":\n",
    "        x_clear.append(data[\"traffic_volume\"][i])\n",
    "    elif data[\"weather_main\"][i] == \"Snow\":\n",
    "        x_snow.append(data[\"traffic_volume\"][i])\n",
    "weather_list = weather_list = [0 for _ in range(len(x_clouds))] + [1 for _ in range(len(x_clear))]+ [2 for _ in range(len(x_snow))]\n",
    "\n",
    "print(len(class_list))\n",
    "traffic_list = x_clouds + x_clear + x_snow\n",
    "w={\"weather\" : weather_list,\"traffic\" : traffic_list}\n",
    "data1=DataFrame(w)\n",
    "model = ols('traffic ~ C(weather)', data=data1).fit()\n",
    "anova_result = sm.stats.anova_lm(model)\n",
    "print(anova_result)"
   ]
  },
  {
   "cell_type": "code",
   "execution_count": 205,
   "id": "e19b899c",
   "metadata": {},
   "outputs": [
    {
     "name": "stdout",
     "output_type": "stream",
     "text": [
      "The degree of freedom we use in the F-test is df1 = 2 and df2 = 31418.\n",
      "F_statistics > F_alpha, we reject the null hypothesis. The hourly traffic has different mean under these 3 weather conditions at alpha = 5%.\n"
     ]
    }
   ],
   "source": [
    "# Problem 2 (b)\n",
    "from scipy.stats import f\n",
    "# null hypothesis: beta1 = beta2 = beta3\n",
    "p = 3\n",
    "N = 31421\n",
    "F_statistics = 338.384375\n",
    "F_alpha = f.ppf(0.95, p-1, N-p) # alpha = 0.05\n",
    "print('The degree of freedom we use in the F-test is df1 = 2 and df2 = 31418.')\n",
    "if F_statistics > F_alpha:\n",
    "    print('F_statistics > F_alpha, we reject the null hypothesis. The hourly traffic has different mean under these 3 weather conditions at alpha = 5%.')\n",
    "else:\n",
    "    print('F_statistics <= F_alpha, we accept the null hypothesis. The hourly traffic has the same mean under these 3 weather conditions at alpha = 5%.')"
   ]
  }
 ],
 "metadata": {
  "kernelspec": {
   "display_name": "Python 3 (ipykernel)",
   "language": "python",
   "name": "python3"
  },
  "language_info": {
   "codemirror_mode": {
    "name": "ipython",
    "version": 3
   },
   "file_extension": ".py",
   "mimetype": "text/x-python",
   "name": "python",
   "nbconvert_exporter": "python",
   "pygments_lexer": "ipython3",
   "version": "3.9.13"
  }
 },
 "nbformat": 4,
 "nbformat_minor": 5
}
